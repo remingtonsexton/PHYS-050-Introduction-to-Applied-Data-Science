{
 "cells": [
  {
   "cell_type": "markdown",
   "metadata": {},
   "source": [
    "[![Open In Colab](https://colab.research.google.com/assets/colab-badge.svg)](https://colab.research.google.com/github/remingtonsexton/PHYS-050-Introduction-to-Applied-Data-Science/blob/master/notebooks/1-A-Crash-Course-In-Python.ipynb)\n",
    "\n",
    "\n",
    "# Introduction to Applied Data Science - PHYS 050\n",
    "# 1 - A Crash Course in Python\n",
    "\n",
    "This notebook is based on Chapters 1-3 of a book called *A Primer on Scientific Programming with Python* by Hans Petter Langtangen.\n",
    "\n",
    "This notebook will serve as a basic introduction to the language, its syntax, and features."
   ]
  },
  {
   "cell_type": "markdown",
   "metadata": {},
   "source": [
    "### `print` Statements\n",
    "The most basic of things to do with a programming language is to print something.  This is done using the `print()` statement, with whatever you want to print inside the parentheses:"
   ]
  },
  {
   "cell_type": "code",
   "execution_count": 1,
   "metadata": {},
   "outputs": [
    {
     "name": "stdout",
     "output_type": "stream",
     "text": [
      "\n",
      " Hello, world! \n",
      "\n"
     ]
    }
   ],
   "source": [
    "print('\\n Hello, world! \\n') # This is a comment"
   ]
  },
  {
   "cell_type": "markdown",
   "metadata": {},
   "source": [
    "The `\\n` symbol tells Python to skip a line before and after \"Hello, world!\".  Things that are enclosed in parentheses (single '' or double \"\") are called ***strings***.  The `#` symbol indicates that anything after it is \"commented-out\", and cannot be read by Python.  Comments are useful for annotating your code to remind you what things do.  You can check the `type` of an object by printing its type as so"
   ]
  },
  {
   "cell_type": "code",
   "execution_count": 2,
   "metadata": {},
   "outputs": [
    {
     "name": "stdout",
     "output_type": "stream",
     "text": [
      "<class 'str'>\n"
     ]
    }
   ],
   "source": [
    "print(type('cat')) "
   ]
  },
  {
   "cell_type": "markdown",
   "metadata": {},
   "source": [
    "An integer is an ***int*** type:"
   ]
  },
  {
   "cell_type": "code",
   "execution_count": 3,
   "metadata": {},
   "outputs": [
    {
     "name": "stdout",
     "output_type": "stream",
     "text": [
      "<class 'int'>\n"
     ]
    }
   ],
   "source": [
    "print(type(42))"
   ]
  },
  {
   "cell_type": "markdown",
   "metadata": {},
   "source": [
    "A number with a decimal point is called a ***float***:"
   ]
  },
  {
   "cell_type": "code",
   "execution_count": 4,
   "metadata": {},
   "outputs": [
    {
     "name": "stdout",
     "output_type": "stream",
     "text": [
      "<class 'float'>\n"
     ]
    }
   ],
   "source": [
    "print(type(234.43))"
   ]
  },
  {
   "cell_type": "markdown",
   "metadata": {},
   "source": [
    "We can assign anything as a variable so we can easily reference it anywhere in the code.  For example"
   ]
  },
  {
   "cell_type": "code",
   "execution_count": 5,
   "metadata": {},
   "outputs": [
    {
     "name": "stdout",
     "output_type": "stream",
     "text": [
      "cat\n"
     ]
    }
   ],
   "source": [
    "a = 'cat' # assign 'cat' as a variable a\n",
    "print(a)"
   ]
  },
  {
   "cell_type": "markdown",
   "metadata": {},
   "source": [
    "You can also turn an `int` or `float` type into a string:"
   ]
  },
  {
   "cell_type": "code",
   "execution_count": 6,
   "metadata": {},
   "outputs": [
    {
     "name": "stdout",
     "output_type": "stream",
     "text": [
      "3.1415\n",
      "a is a <class 'float'>\n",
      "3.1415\n",
      "a is now a <class 'str'>\n"
     ]
    }
   ],
   "source": [
    "a = 3.1415 # make a float\n",
    "print(a) # print it\n",
    "print('a is a %s' % type(a)) # check its type\n",
    "a = str(3.1415) # turn the float into a string\n",
    "print(a) # print it\n",
    "print('a is now a %s' % type(a)) # check its type again"
   ]
  },
  {
   "cell_type": "markdown",
   "metadata": {},
   "source": [
    "Above we used some ***string formatting*** to print out the string we assigned to `a` inside of a string statement.  The `%s` inserts a string to whatever we assigned it outside of the parentheses.  Let's see another example, where we insert a string with `%s`, an `int` with `%d`, and a `float` with `%f`. \n",
    "\n"
   ]
  },
  {
   "cell_type": "code",
   "execution_count": 7,
   "metadata": {},
   "outputs": [
    {
     "name": "stdout",
     "output_type": "stream",
     "text": [
      "\n",
      " We can print a using only two decimal places like this: 45346.95\n",
      "\n",
      " or four decimal places: 45346.9453\n",
      "\n",
      " We can also print a as an int but it will be rounded down to the nearest int: 45346\n",
      "\n",
      " We can force a to be rounded up using round(a): 45347\n",
      "\n",
      " We can print multiple arguments like 45346.95 and 4 and cat\n"
     ]
    }
   ],
   "source": [
    "a = 45346.945345345\n",
    "b = 4.0\n",
    "c = 'cat'\n",
    "print('\\n We can print a using only two decimal places like this: %0.2f' % a )\n",
    "print('\\n or four decimal places: %0.4f' % a)\n",
    "print('\\n We can also print a as an int but it will be rounded down to the nearest int: %d' % a)\n",
    "print('\\n We can force a to be rounded up using round(a): %d' % round(a))\n",
    "print('\\n We can print multiple arguments like %0.2f and %d and %s' % (a,b,c) )"
   ]
  },
  {
   "cell_type": "markdown",
   "metadata": {},
   "source": [
    "### Mathematical Operations"
   ]
  },
  {
   "cell_type": "markdown",
   "metadata": {},
   "source": [
    "Probably the most useful thing you can do with a programming language is math:"
   ]
  },
  {
   "cell_type": "code",
   "execution_count": 8,
   "metadata": {},
   "outputs": [
    {
     "name": "stdout",
     "output_type": "stream",
     "text": [
      "7\n",
      "6\n",
      "13\n",
      "13\n"
     ]
    }
   ],
   "source": [
    "a = 7\n",
    "b = 6\n",
    "c = a + b # add the ints\n",
    "print(a)\n",
    "print(b)\n",
    "print(a+b)\n",
    "print(c)"
   ]
  },
  {
   "cell_type": "markdown",
   "metadata": {},
   "source": [
    "**Warning**: if you convert these things to strings using `str()`, look what happens:"
   ]
  },
  {
   "cell_type": "code",
   "execution_count": 9,
   "metadata": {},
   "outputs": [
    {
     "name": "stdout",
     "output_type": "stream",
     "text": [
      "7\n",
      "6\n",
      "76\n",
      "76\n"
     ]
    }
   ],
   "source": [
    "a = str(7) # convert int to string\n",
    "b = str(6) # convert int to string\n",
    "c = a + b # add the strings\n",
    "print(a)\n",
    "print(b)\n",
    "print(a+b)\n",
    "print(c)"
   ]
  },
  {
   "cell_type": "markdown",
   "metadata": {},
   "source": [
    "We can also do other types of mathematical operations:"
   ]
  },
  {
   "cell_type": "code",
   "execution_count": 10,
   "metadata": {},
   "outputs": [
    {
     "name": "stdout",
     "output_type": "stream",
     "text": [
      "Addition: a + b = 13\n",
      "Subtraction: a - b = 1\n",
      "Multiplication: a * b = 42\n",
      "Division: a / b = 1.17\n",
      "Powers: a^b = 117649\n"
     ]
    }
   ],
   "source": [
    "a = 7\n",
    "b = 6\n",
    "print('Addition: a + b = %d' % (a+b) ) # Addition\n",
    "print('Subtraction: a - b = %d' % (a-b) ) # Subtraction\n",
    "print('Multiplication: a * b = %d' % (a*b) ) # multiplication\n",
    "print('Division: a / b = %0.2f' % (a/b) )\n",
    "print('Powers: a^b = %d' % (a**b))"
   ]
  },
  {
   "cell_type": "markdown",
   "metadata": {},
   "source": [
    "What about square root? For that, we need to import the `math` module.  In general, we can import any module by typing `import module-name`, or we can import the module as some variable, like so:"
   ]
  },
  {
   "cell_type": "code",
   "execution_count": 11,
   "metadata": {},
   "outputs": [],
   "source": [
    "import math as m"
   ]
  },
  {
   "cell_type": "markdown",
   "metadata": {},
   "source": [
    "Now we can call any number of mathematical `functions` supported by the `math` module.  You can find them all here [(Python math module)](https://docs.python.org/3/library/math.html).  Here are some examples:"
   ]
  },
  {
   "cell_type": "code",
   "execution_count": 12,
   "metadata": {},
   "outputs": [
    {
     "name": "stdout",
     "output_type": "stream",
     "text": [
      "Square Root: sqrt(a) = 2.65\n",
      "Exponential: e^a = 1096.63\n",
      "Base-10 Logarithm: log10(a) = 0.85\n",
      "Sine function: sin(a) = 0.66\n",
      "pi = 3.1415926535897931159979634685441851615905761718750000000000000000000000000000000000000000000000000000\n"
     ]
    }
   ],
   "source": [
    "print('Square Root: sqrt(a) = %0.2f' % (m.sqrt(a)))\n",
    "print('Exponential: e^a = %0.2f' % (m.exp(a)))\n",
    "print('Base-10 Logarithm: log10(a) = %0.2f' % (m.log10(a)))\n",
    "print('Sine function: sin(a) = %0.2f' % (m.sin(a)) ) # radians \n",
    "print('pi = %0.100f' % m.pi)"
   ]
  },
  {
   "cell_type": "markdown",
   "metadata": {},
   "source": [
    "You'll notice above where we tried to calculate the first 100 decimal places of $\\pi$, it eventually just printed zeros.  This is because most programming languages represent floating point numbers (you can read all about it [here](https://en.wikipedia.org/wiki/Floating-point_arithmetic)). All you need to know is that no number is 100% exact when represented as a float:"
   ]
  },
  {
   "cell_type": "code",
   "execution_count": 13,
   "metadata": {},
   "outputs": [
    {
     "data": {
      "text/plain": [
       "0.30000000000000004"
      ]
     },
     "execution_count": 13,
     "metadata": {},
     "output_type": "execute_result"
    }
   ],
   "source": [
    "0.1 + 0.1 + 0.1 "
   ]
  },
  {
   "cell_type": "markdown",
   "metadata": {},
   "source": [
    "This can be problematic if you were expecting the exact value:"
   ]
  },
  {
   "cell_type": "code",
   "execution_count": 14,
   "metadata": {},
   "outputs": [
    {
     "data": {
      "text/plain": [
       "False"
      ]
     },
     "execution_count": 14,
     "metadata": {},
     "output_type": "execute_result"
    }
   ],
   "source": [
    "0.1 + 0.1 + 0.1 == 0.3"
   ]
  },
  {
   "cell_type": "markdown",
   "metadata": {},
   "source": [
    "This seems kind of dumb, but in practice you'll probably never notice it.  Just be aware that this happens and that if a float undergoes enough operations, eventually this ***truncation error*** can add up, causing a calculated value to deviate significantly from the exact one.\n",
    "\n",
    "\n",
    "Now that we've introduced mathematical functions, what if we want to make our own functions?"
   ]
  },
  {
   "cell_type": "markdown",
   "metadata": {},
   "source": [
    "### Functions"
   ]
  },
  {
   "cell_type": "markdown",
   "metadata": {},
   "source": [
    "Let's say you wanted to compute a formula that converts Fahrenheit to Celsius:\n",
    "\n",
    "\\begin{equation}\n",
    "F = \\frac{9}{5}C+32\n",
    "\\end{equation}\n",
    "\n",
    "Let's perform that calculation with $C = 25$: "
   ]
  },
  {
   "cell_type": "code",
   "execution_count": 15,
   "metadata": {},
   "outputs": [
    {
     "name": "stdout",
     "output_type": "stream",
     "text": [
      "25.0 Celsius is 77.0 degrees Fahrenheit.\n"
     ]
    }
   ],
   "source": [
    "C = 25\n",
    "F = 9/5*C+32\n",
    "print('%0.1f Celsius is %0.1f degrees Fahrenheit.' % (C,F))"
   ]
  },
  {
   "cell_type": "markdown",
   "metadata": {},
   "source": [
    "This is cool and all, but we're going to  have to type out the equation every time we want to calculate $F$ for a new value of $C$.  Luckily, we can define a `function`, which we can pass a value `C`, perform an operation, and return a value `F`, like so:"
   ]
  },
  {
   "cell_type": "code",
   "execution_count": 16,
   "metadata": {},
   "outputs": [],
   "source": [
    "def celsius_to_fahrenheit(C): # you can name the function whatever you want, in this case 'celsius_to_fahrenheit', and it takes 1 argument C\n",
    "    print(' Input: %0.1f C' % C)\n",
    "    F = 9/5*C+32 # perform operation\n",
    "    print(' Output: %0.1f F' % F)\n",
    "    return F # have the function return a value F"
   ]
  },
  {
   "cell_type": "markdown",
   "metadata": {},
   "source": [
    "Now we can call our function by giving it a value and it will return F:"
   ]
  },
  {
   "cell_type": "code",
   "execution_count": 17,
   "metadata": {},
   "outputs": [
    {
     "name": "stdout",
     "output_type": "stream",
     "text": [
      " Input: 44.2 C\n",
      " Output: 111.6 F\n"
     ]
    }
   ],
   "source": [
    "C = 44.2\n",
    "F = celsius_to_fahrenheit(C)"
   ]
  },
  {
   "cell_type": "markdown",
   "metadata": {},
   "source": [
    "The output of the function is stored in `F`:"
   ]
  },
  {
   "cell_type": "code",
   "execution_count": 18,
   "metadata": {},
   "outputs": [
    {
     "name": "stdout",
     "output_type": "stream",
     "text": [
      "111.56\n"
     ]
    }
   ],
   "source": [
    "print(F)"
   ]
  },
  {
   "cell_type": "markdown",
   "metadata": {},
   "source": [
    "### Lists & Tuples, Indexing, and Slicing\n",
    "\n",
    "A ***tuple*** is any sequence enclosed with parentheses.  A ***list*** is any sequence enclosed with brackets:"
   ]
  },
  {
   "cell_type": "code",
   "execution_count": 19,
   "metadata": {},
   "outputs": [
    {
     "name": "stdout",
     "output_type": "stream",
     "text": [
      "(1, 2, 3, 4, 5) <class 'tuple'>\n",
      "[6, 7, 8, 9, 10] <class 'list'>\n"
     ]
    }
   ],
   "source": [
    "a = (1,2,3,4,5) # a tuple\n",
    "print(a, type(a)) # print a and its type\n",
    "b = [6,7,8,9,10] # a list\n",
    "print(b,type(b)) # print b and its type"
   ]
  },
  {
   "cell_type": "markdown",
   "metadata": {},
   "source": [
    "Each element in a tuple or list has an ***index***.  Lists and tuples in Python are \"zero-indexed\", which means the first index in a list/tuple is zero, the second index is 1, the third index is 2, etc..  You can think of an index as an element's location in the list.  We can print the $i^{th}$ index in a list like so:"
   ]
  },
  {
   "cell_type": "code",
   "execution_count": 20,
   "metadata": {},
   "outputs": [
    {
     "name": "stdout",
     "output_type": "stream",
     "text": [
      "1\n",
      "3\n",
      "5\n",
      "4\n"
     ]
    }
   ],
   "source": [
    "print( a[0]) # The first element in a has an index of 0\n",
    "print( a[2]) # The third element in a has an index of 2\n",
    "print( a[-1]) # The last element in a has an index of -1; think of it like counting backwards\n",
    "print( a[-2]) # The second to last element has an index of -2, and so on..."
   ]
  },
  {
   "cell_type": "markdown",
   "metadata": {},
   "source": [
    "We can manipulate lists.  Let's say we only wanted the last three elements of `a`.  We can ***slice*** the list using the `:` symbol:"
   ]
  },
  {
   "cell_type": "code",
   "execution_count": 21,
   "metadata": {},
   "outputs": [
    {
     "name": "stdout",
     "output_type": "stream",
     "text": [
      "(1, 2, 3, 4, 5)\n",
      "(1, 2, 3, 4, 5)\n",
      "(3, 4, 5)\n",
      "(3, 4, 5)\n"
     ]
    }
   ],
   "source": [
    "print(a) # before manipulation\n",
    "print(a[:]) # the full list\n",
    "print(a[2:]) # last three elements: start from the second index (third element) and keep the rest\n",
    "print(a[-3:]) # last three elements: start from the third to the last element, and keep the rest"
   ]
  },
  {
   "cell_type": "markdown",
   "metadata": {},
   "source": [
    "In the above, `a[2:]` is the same as `a[-3:]`. \n",
    "\n",
    "Or if we wanted the middle three elements:"
   ]
  },
  {
   "cell_type": "code",
   "execution_count": 22,
   "metadata": {},
   "outputs": [
    {
     "name": "stdout",
     "output_type": "stream",
     "text": [
      "(2, 3, 4)\n",
      "(2, 3, 4)\n"
     ]
    }
   ],
   "source": [
    "print( a[1:4] )\n",
    "print( a[1:-1] ) "
   ]
  },
  {
   "cell_type": "markdown",
   "metadata": {},
   "source": [
    "The `a[1:-1]` method is useful if we don't know the length of `a`.  But we can check the legnth of `a` using `len()`:"
   ]
  },
  {
   "cell_type": "code",
   "execution_count": 23,
   "metadata": {},
   "outputs": [
    {
     "name": "stdout",
     "output_type": "stream",
     "text": [
      "5\n"
     ]
    }
   ],
   "source": [
    "print( len(a)) # len prints the length of a tuple/list"
   ]
  },
  {
   "cell_type": "markdown",
   "metadata": {},
   "source": [
    "You can slice both lists and tuples.  The only way tuples are different from lists, is that we cannot change the values of a tuple, but we can in a list.  Say we wanted to change the 0th index (first element) of `b` (which is a list) to a value of 9:"
   ]
  },
  {
   "cell_type": "code",
   "execution_count": 24,
   "metadata": {},
   "outputs": [
    {
     "name": "stdout",
     "output_type": "stream",
     "text": [
      "[6, 7, 8, 9, 10]\n",
      "[9, 7, 8, 9, 10]\n"
     ]
    }
   ],
   "source": [
    "print(b)\n",
    "b[0] = 9 # change of first value of b\n",
    "print(b)"
   ]
  },
  {
   "cell_type": "markdown",
   "metadata": {},
   "source": [
    "You cannot do this same change with `a` because `a` is a tuple.  If you try, you'll get an error:"
   ]
  },
  {
   "cell_type": "code",
   "execution_count": 25,
   "metadata": {},
   "outputs": [
    {
     "name": "stdout",
     "output_type": "stream",
     "text": [
      "(1, 2, 3, 4, 5)\n"
     ]
    },
    {
     "ename": "TypeError",
     "evalue": "'tuple' object does not support item assignment",
     "output_type": "error",
     "traceback": [
      "\u001b[0;31m---------------------------------------------------------------------------\u001b[0m",
      "\u001b[0;31mTypeError\u001b[0m                                 Traceback (most recent call last)",
      "\u001b[0;32m<ipython-input-25-264f551e0b21>\u001b[0m in \u001b[0;36m<module>\u001b[0;34m\u001b[0m\n\u001b[1;32m      1\u001b[0m \u001b[0mprint\u001b[0m\u001b[0;34m(\u001b[0m\u001b[0ma\u001b[0m\u001b[0;34m)\u001b[0m\u001b[0;34m\u001b[0m\u001b[0;34m\u001b[0m\u001b[0m\n\u001b[0;32m----> 2\u001b[0;31m \u001b[0ma\u001b[0m\u001b[0;34m[\u001b[0m\u001b[0;36m0\u001b[0m\u001b[0;34m]\u001b[0m \u001b[0;34m=\u001b[0m \u001b[0;36m9\u001b[0m \u001b[0;31m# change of first value of a\u001b[0m\u001b[0;34m\u001b[0m\u001b[0;34m\u001b[0m\u001b[0m\n\u001b[0m\u001b[1;32m      3\u001b[0m \u001b[0mprint\u001b[0m\u001b[0;34m(\u001b[0m\u001b[0ma\u001b[0m\u001b[0;34m)\u001b[0m\u001b[0;34m\u001b[0m\u001b[0;34m\u001b[0m\u001b[0m\n",
      "\u001b[0;31mTypeError\u001b[0m: 'tuple' object does not support item assignment"
     ]
    }
   ],
   "source": [
    "print(a)\n",
    "a[0] = 9 # change of first value of a\n",
    "print(a)"
   ]
  },
  {
   "cell_type": "markdown",
   "metadata": {},
   "source": [
    "In general, lists are usually more useful than tuples. Keep in mind, lists and tuples are ***not*** arrays/matrices.  If you add two lists or tuples, all you do is ***concatenate*** them:"
   ]
  },
  {
   "cell_type": "code",
   "execution_count": 26,
   "metadata": {},
   "outputs": [
    {
     "name": "stdout",
     "output_type": "stream",
     "text": [
      "[9, 7, 8, 9, 10, 9, 7, 8, 9, 10]\n",
      "(1, 2, 3, 4, 5, 1, 2, 3, 4, 5)\n"
     ]
    }
   ],
   "source": [
    "c = b+b\n",
    "print(c)\n",
    "d = a+a\n",
    "print(d)"
   ]
  },
  {
   "cell_type": "markdown",
   "metadata": {},
   "source": [
    "### Dictionaries\n",
    "\n",
    "A dictionary is kind of list whose elements you can assign names.  You can create a dictionary using braces `{}`:"
   ]
  },
  {
   "cell_type": "code",
   "execution_count": 27,
   "metadata": {},
   "outputs": [
    {
     "name": "stdout",
     "output_type": "stream",
     "text": [
      "{'a': 1, 'b': (2, 3, 4), 'c': [5, 6, 7], 'd': 'cat'}\n"
     ]
    }
   ],
   "source": [
    "my_dict = {\n",
    "    'a':1,\n",
    "    'b':(2,3,4),\n",
    "    'c':[5,6,7],\n",
    "    'd':'cat'\n",
    "}\n",
    "print(my_dict)"
   ]
  },
  {
   "cell_type": "markdown",
   "metadata": {},
   "source": [
    "You can call the elements by name:"
   ]
  },
  {
   "cell_type": "code",
   "execution_count": 28,
   "metadata": {},
   "outputs": [
    {
     "name": "stdout",
     "output_type": "stream",
     "text": [
      "1\n",
      "cat\n"
     ]
    }
   ],
   "source": [
    "print (my_dict['a'])\n",
    "print (my_dict['d'])"
   ]
  },
  {
   "cell_type": "markdown",
   "metadata": {},
   "source": [
    "### `while()` Loops\n",
    "\n",
    "Recall the function we made earlier, copied below for convenience:"
   ]
  },
  {
   "cell_type": "code",
   "execution_count": 29,
   "metadata": {},
   "outputs": [],
   "source": [
    "def celsius_to_fahrenheit(C): # you can name the function whatever you want, in this case 'celsius_to_fahrenheit', and it takes 1 argument C\n",
    "    F = 9/5*C+32 # perform operation\n",
    "    return F # have the function return a value F"
   ]
  },
  {
   "cell_type": "markdown",
   "metadata": {},
   "source": [
    "Now say instead of calling this function to calculate $F$ for one value of $C=25$, you would like to calculate it for a range or list of values such as "
   ]
  },
  {
   "cell_type": "code",
   "execution_count": 30,
   "metadata": {},
   "outputs": [],
   "source": [
    "C = [-20,-10,0,10,20,30,40,50]"
   ]
  },
  {
   "cell_type": "markdown",
   "metadata": {},
   "source": [
    "If you try giving `celsius_to_fahrenheit()` a list, you'll get an error.  Instead, we can use a ***loop***, to iterate through each value in the list $C$ and send it to the function one at a time.  The first kind of loop we can use is a **`while`** loop.  \n",
    "\n",
    "A while loop is used to repeat a set of statements a long as a condition is true.  For example:"
   ]
  },
  {
   "cell_type": "code",
   "execution_count": 31,
   "metadata": {},
   "outputs": [
    {
     "name": "stdout",
     "output_type": "stream",
     "text": [
      "-20 -4.0\n",
      "-10 14.0\n",
      "0 32.0\n",
      "10 50.0\n",
      "20 68.0\n",
      "30 86.0\n",
      "40 104.0\n",
      "50 122.0\n"
     ]
    }
   ],
   "source": [
    "C = -20 # Start C at -20\n",
    "dC = 10 # this will be the value that we increment C by each time we go through a loop\n",
    "while C<=50: # while the value of C is less than or equal to 50,\n",
    "    F = celsius_to_fahrenheit(C) # call the function \n",
    "    print(C, F)\n",
    "    C = C + dC # increase C by dC before the start of the next iteration"
   ]
  },
  {
   "cell_type": "markdown",
   "metadata": {},
   "source": [
    "Let's go through the above `while` loop, step-by-step:\n",
    "1. We started by choosing a value `C=-20` to start.  This is also the first value in our list `C` above.\n",
    "2. We chose a value `dC=10` which is how much we increase `C` by each iteration.\n",
    "3. We enter the `while` loop with `C=-20`\n",
    "4. We send `C=-20` to `celsius_to_fahrenheit()`, and get a value `F`.\n",
    "5. The last thing we do is increase the original value of `C` by `dC` using `C = C + dC`.  We overwrite the old `C` and create a new `C` whose value increases by `dC`.  Now `C=-10`. \n",
    "6. Return to the beginning of the loop with `C=-10`\n",
    "7. Repeat until `C>50`, at which point the loop stops.\n",
    "\n",
    "Alternatively, we can *increment* C by saying `C+=dC`, which is the same as saying `C = C + dC`, as shown below:"
   ]
  },
  {
   "cell_type": "code",
   "execution_count": 32,
   "metadata": {},
   "outputs": [
    {
     "name": "stdout",
     "output_type": "stream",
     "text": [
      "-20 -4.0\n",
      "-10 14.0\n",
      "0 32.0\n",
      "10 50.0\n",
      "20 68.0\n",
      "30 86.0\n",
      "40 104.0\n",
      "50 122.0\n"
     ]
    }
   ],
   "source": [
    "C = -20 # Start C at -20\n",
    "dC = 10 # this will be the value that we increment C by each time we go through a loop\n",
    "while C<=50: # while the value of C is less than or equal to 50,\n",
    "    F = celsius_to_fahrenheit(C) # call the function \n",
    "    print(C, F)\n",
    "    C += dC # increase C by dC before the start of the next iteration"
   ]
  },
  {
   "cell_type": "markdown",
   "metadata": {},
   "source": [
    "The shorthand `C+=dC` also applies to other operations:"
   ]
  },
  {
   "cell_type": "code",
   "execution_count": 33,
   "metadata": {},
   "outputs": [
    {
     "name": "stdout",
     "output_type": "stream",
     "text": [
      "-10\n",
      "-30\n",
      "-200\n",
      "-2.0\n"
     ]
    }
   ],
   "source": [
    "# Addition\n",
    "C = -20\n",
    "C+=10 # same as C = C + dC\n",
    "print(C)\n",
    "# Subtraction\n",
    "C = -20\n",
    "C-=10 # same as C = C - dC\n",
    "print(C)\n",
    "# Multiplication\n",
    "C = -20\n",
    "C*=10 # same as C = C * dC\n",
    "print(C)\n",
    "# Division\n",
    "C = -20\n",
    "C/=10 # same as C = C / dC\n",
    "print(C)"
   ]
  },
  {
   "cell_type": "markdown",
   "metadata": {},
   "source": [
    "We also encountered ` C<=50` in our `while` loop, which is a ***boolean*** expression.  \"Boolean\" refers to whether a statement is `True` or `False`.  For example"
   ]
  },
  {
   "cell_type": "code",
   "execution_count": 34,
   "metadata": {},
   "outputs": [
    {
     "name": "stdout",
     "output_type": "stream",
     "text": [
      "False\n",
      "True\n"
     ]
    }
   ],
   "source": [
    "C = 10\n",
    "print(C < 0)\n",
    "print(C > 0)"
   ]
  },
  {
   "cell_type": "markdown",
   "metadata": {},
   "source": [
    "Some other boolean expressions we could have used are:"
   ]
  },
  {
   "cell_type": "code",
   "execution_count": 35,
   "metadata": {},
   "outputs": [
    {
     "name": "stdout",
     "output_type": "stream",
     "text": [
      "False\n",
      "True\n",
      "False\n",
      "False\n",
      "True\n"
     ]
    }
   ],
   "source": [
    "print(C == 40) # does C = 40? (notice the double == )\n",
    "print(C != 40) # does C not equal 40?\n",
    "print(C >= 40) # is C greater or equal to 40?\n",
    "print(C > 40) # is C greater than 40?\n",
    "print(C < 40) # is C less than 40?"
   ]
  },
  {
   "cell_type": "markdown",
   "metadata": {},
   "source": [
    "Finally, we can have multiple boolean expressions in our loops, to satisfy multiple conditions.  We do this using `and` or `or`:"
   ]
  },
  {
   "cell_type": "code",
   "execution_count": 36,
   "metadata": {},
   "outputs": [
    {
     "name": "stdout",
     "output_type": "stream",
     "text": [
      "True\n",
      "True\n"
     ]
    }
   ],
   "source": [
    "C = 20\n",
    "print(C>0 and C>-20) # multiple conditions using \"and\"\n",
    "print(C<0 or C>10) # multiple conditions using \"or\""
   ]
  },
  {
   "cell_type": "markdown",
   "metadata": {},
   "source": [
    "`while` loops are useful in only a handful of situations.  For most applications, we can avoid `while` loops, and use `for` loops instead."
   ]
  },
  {
   "cell_type": "markdown",
   "metadata": {},
   "source": [
    "### `for()` Loops\n",
    "\n",
    "With the `while` loop, we totally forgot about the list we made `C = [-20,-10,0,10,20,30,40,50]`, and we had to make the `while` loop knowing where the list started, ended, and the spacing between each element (`dC=10`).\n",
    "\n",
    "With a `for()` loop, we can iterate through the list `C` itself:\n"
   ]
  },
  {
   "cell_type": "code",
   "execution_count": 37,
   "metadata": {},
   "outputs": [
    {
     "name": "stdout",
     "output_type": "stream",
     "text": [
      "-20\n",
      "-10\n",
      "0\n",
      "10\n",
      "20\n",
      "30\n",
      "40\n",
      "50\n"
     ]
    }
   ],
   "source": [
    "C = [-20,-10,0,10,20,30,40,50]\n",
    "# using a for loop to iterate through the list C\n",
    "for degree in C: \n",
    "    print(degree)"
   ]
  },
  {
   "cell_type": "markdown",
   "metadata": {},
   "source": [
    "Now we can iterate through our function using the `for()` loop:"
   ]
  },
  {
   "cell_type": "code",
   "execution_count": 38,
   "metadata": {},
   "outputs": [
    {
     "name": "stdout",
     "output_type": "stream",
     "text": [
      "-20 -4.0\n",
      "-10 14.0\n",
      "0 32.0\n",
      "10 50.0\n",
      "20 68.0\n",
      "30 86.0\n",
      "40 104.0\n",
      "50 122.0\n"
     ]
    }
   ],
   "source": [
    "for degree in C:\n",
    "    F = celsius_to_fahrenheit(degree)\n",
    "    print(degree, F)"
   ]
  },
  {
   "cell_type": "markdown",
   "metadata": {},
   "source": [
    "Using the `for()` loop, we avoided the increment `dC` and `C+=dC`.  Furthermore, our list no longer has to be evenly spaced, since we just go through each value in the list.\n",
    "\n",
    "What if we have two lists, and we want to iterate through both of them at the same time.  We can use the `range()` function to iterate through the length of the list using indices:"
   ]
  },
  {
   "cell_type": "code",
   "execution_count": 39,
   "metadata": {},
   "outputs": [
    {
     "name": "stdout",
     "output_type": "stream",
     "text": [
      "0 -20 -4.0\n",
      "1 -10 14.0\n",
      "2 0 32.0\n",
      "3 10 50.0\n",
      "4 20 68.0\n",
      "5 30 86.0\n",
      "6 40 104.0\n",
      "7 50 122.0\n"
     ]
    }
   ],
   "source": [
    "for index in range(len(C)): # i is an index\n",
    "    F = celsius_to_fahrenheit(C[index])\n",
    "    print(index, C[index], F) # print out index, C, and F for each iteration"
   ]
  },
  {
   "cell_type": "code",
   "execution_count": 40,
   "metadata": {},
   "outputs": [
    {
     "name": "stdout",
     "output_type": "stream",
     "text": [
      "0 1 6\n",
      "1 2 7\n",
      "2 3 8\n",
      "3 4 9\n",
      "4 5 10\n"
     ]
    }
   ],
   "source": [
    "A = [1,2,3,4,5]\n",
    "B = [6,7,8,9,10]\n",
    "\n",
    "for i in range(len(A)):\n",
    "    print(i, A[i], B[i]) # prints index, A, and B for each index"
   ]
  },
  {
   "cell_type": "markdown",
   "metadata": {},
   "source": [
    "### Conditional Statements: `if`, `elif`, and `else` statements\n",
    "\n",
    "We can also evaluate any value using a conditional `if` and/or `else` statement.  These statements are useful in idenfying certain values in a list.\n",
    "\n",
    "Let's iterate through a list of numbers 1-10.  If the number is odd, print 'cat', if the number is even print, 'dog'.  A number is even if there is no remainder when divided by 2, i.e., the modulus of that number is zero.  Otherwise, it is odd:\n",
    "\n",
    "\\begin{align*}\n",
    "n\\;&\\%\\;2 = 0, \\quad\\text{even}\\\\\n",
    "n\\;&\\%\\;2 !=0, \\quad\\text{odd}\n",
    "\\end{align*}\n",
    "where $n$ is the number, and $\\%$ is the modulus operator. So, \n",
    "1. Iterate through the list using a `for()` loop\n",
    "2. Determine if the number is even or odd\n",
    "3. Print 'cat if odd, print 'dog' if even."
   ]
  },
  {
   "cell_type": "code",
   "execution_count": 41,
   "metadata": {},
   "outputs": [
    {
     "name": "stdout",
     "output_type": "stream",
     "text": [
      " cat\n",
      " dog\n",
      " cat\n",
      " dog\n",
      " cat\n",
      " dog\n",
      " cat\n",
      " dog\n",
      " cat\n",
      " dog\n"
     ]
    }
   ],
   "source": [
    "A = [1,2,3,4,5,6,7,8,9,10]\n",
    "\n",
    "for n in A:\n",
    "    if n%2==0: # if even\n",
    "        print(' dog')\n",
    "    else:\n",
    "        print(' cat')"
   ]
  },
  {
   "cell_type": "markdown",
   "metadata": {},
   "source": [
    "Notice that we did not have to specify the 'odd' statement since the only other choice is 'odd'.  We could have also been more specific and added an `elif` statement:"
   ]
  },
  {
   "cell_type": "code",
   "execution_count": 42,
   "metadata": {},
   "outputs": [
    {
     "name": "stdout",
     "output_type": "stream",
     "text": [
      " cat\n",
      " dog\n",
      " cat\n",
      " dog\n",
      " cat\n",
      " dog\n",
      " cat\n",
      " dog\n",
      " cat\n",
      " dog\n"
     ]
    }
   ],
   "source": [
    "A = [1,2,3,4,5,6,7,8,9,10]\n",
    "\n",
    "for n in A:\n",
    "    if n%2==0: # if even\n",
    "        print(' dog')\n",
    "    elif n%2!=0:\n",
    "        print(' cat')"
   ]
  },
  {
   "cell_type": "markdown",
   "metadata": {},
   "source": [
    "## Other Useful Tutorials and Resources\n",
    "\n",
    "This was a very basic crash course in Python.  We still haven't covered other more-useful packages such as Matplotlib, Numpy, or Scipy (yet!). If you didnt find this tutorial helpful, the internet is full of Python tutorials, probably more helpful than this one:\n",
    "- [The official Python 3 Tutorial (online)](https://docs.python.org/3/tutorial/)\n",
    "- [DataQuest Jupyter Notebook turorial (online)](https://www.dataquest.io/blog/jupyter-notebook-tutorial/)\n",
    "- [Learn Python - Full 4 Hour Course - No Ads (video)](https://www.youtube.com/watch?v=rfscVS0vtbw)\n",
    "- [Data Science from Scatch (textbook)](https://www.amazon.com/Data-Science-Scratch-Principles-Python/dp/1492041130/ref=sr_1_3?dchild=1&keywords=data+science+from+scratch&qid=1592988287&sr=8-3)\n",
    "- [A Primer on Scientific Programming with Python (textbook PDF)](https://hplgit.github.io/primer.html/doc/pub/half/book.pdf)"
   ]
  },
  {
   "cell_type": "code",
   "execution_count": null,
   "metadata": {},
   "outputs": [],
   "source": []
  }
 ],
 "metadata": {
  "kernelspec": {
   "display_name": "Python [conda env:py3] *",
   "language": "python",
   "name": "conda-env-py3-py"
  },
  "language_info": {
   "codemirror_mode": {
    "name": "ipython",
    "version": 3
   },
   "file_extension": ".py",
   "mimetype": "text/x-python",
   "name": "python",
   "nbconvert_exporter": "python",
   "pygments_lexer": "ipython3",
   "version": "3.6.10"
  }
 },
 "nbformat": 4,
 "nbformat_minor": 4
}
